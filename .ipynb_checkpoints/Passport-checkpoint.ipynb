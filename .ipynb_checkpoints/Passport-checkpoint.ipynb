{
 "cells": [
  {
   "cell_type": "code",
   "execution_count": 105,
   "id": "c7a70718",
   "metadata": {},
   "outputs": [
    {
     "name": "stdout",
     "output_type": "stream",
     "text": [
      "Nationality : 3Z9\n",
      "Given Name : 99A9OZ7O\n",
      "Surname : AMIRAT\n",
      "Passport type : ID\n",
      "Date of birth : 2NAEL<\n",
      "Gender : S\n",
      "Expiration date : AMY<<<\n"
     ]
    }
   ],
   "source": [
    "# Import PassportEye\n",
    "from passporteye import read_mrz\n",
    "\n",
    "# Process the image\n",
    "mrz = read_mrz('passeport.jpg')\n",
    "\n",
    "# Obtain image\n",
    "mrz_data = mrz.to_dict()\n",
    "\n",
    "#Show the json datas of the passport\n",
    "print('Nationality : '+ mrz_data['nationality'])\n",
    "print('Given Name : '+ mrz_data['names'])\n",
    "print('Surname : '+ mrz_data['surname'])\n",
    "print('Passport type : '+ mrz_data['type'])\n",
    "print('Date of birth : '+ mrz_data['date_of_birth'])\n",
    "print('Gender : '+ mrz_data['sex'])\n",
    "print('Expiration date : '+ mrz_data['expiration_date'])"
   ]
  },
  {
   "cell_type": "code",
   "execution_count": 106,
   "id": "1b747226",
   "metadata": {},
   "outputs": [
    {
     "name": "stdout",
     "output_type": "stream",
     "text": [
      "Nationality : GBR\n",
      "Given Name : ANGELA ZOE\n",
      "Surname : ST HELENA SPECIMEN\n",
      "Passport type : P<\n",
      "Date of birth : 880911\n",
      "ID Number : <<<<<<<<<<<<<<\n",
      "Gender : F\n",
      "Expiration date : 250310\n"
     ]
    }
   ],
   "source": [
    "# Process the clean image\n",
    "mrz = read_mrz(\"britishp.jpg\")\n",
    "\n",
    "# Obtain image\n",
    "mrz_data2 = mrz.to_dict()\n",
    "\n",
    "#Show the json datas of the passport\n",
    "print('Nationality : '+ mrz_data2['nationality'])\n",
    "print('Given Name : '+ mrz_data2['names'])\n",
    "print('Surname : '+ mrz_data2['surname'])\n",
    "print('Passport type : '+ mrz_data2['type'])\n",
    "print('Date of birth : '+ mrz_data2['date_of_birth'])\n",
    "print('ID Number : '+ mrz_data2['personal_number'])\n",
    "print('Gender : '+ mrz_data2['sex'])\n",
    "print('Expiration date : '+ mrz_data2['expiration_date'])"
   ]
  },
  {
   "cell_type": "code",
   "execution_count": 107,
   "id": "195cd513",
   "metadata": {},
   "outputs": [
    {
     "name": "stdout",
     "output_type": "stream",
     "text": [
      "Nationality : NZL\n",
      "Given Name : \n",
      "Surname : WHAKAATURANGAS FRED WIREMU JOHN\n",
      "Passport type : P<\n",
      "Date of birth : 640228\n",
      "ID Number : <<<<<<<<<<<<<<\n",
      "Gender : M\n",
      "Expiration date : 141005\n"
     ]
    }
   ],
   "source": [
    "# Process the basic image image\n",
    "mrz = read_mrz('nzpassport.png')\n",
    "\n",
    "# Obtain image\n",
    "mrz_data3 = mrz.to_dict()\n",
    "\n",
    "#Show the json datas of the passport\n",
    "print('Nationality : '+ mrz_data3['nationality'])\n",
    "print('Given Name : '+ mrz_data3['names'])\n",
    "print('Surname : '+ mrz_data3['surname'])\n",
    "print('Passport type : '+ mrz_data3['type'])\n",
    "print('Date of birth : '+ mrz_data3['date_of_birth'])\n",
    "print('ID Number : '+ mrz_data3['personal_number'])\n",
    "print('Gender : '+ mrz_data3['sex'])\n",
    "print('Expiration date : '+ mrz_data3['expiration_date'])"
   ]
  },
  {
   "cell_type": "code",
   "execution_count": 108,
   "id": "5bec56eb",
   "metadata": {},
   "outputs": [
    {
     "name": "stdout",
     "output_type": "stream",
     "text": [
      "OrderedDict([('mrz_type', 'TD2'), ('valid_score', 27), ('raw_text', 'IDFRAAMIRAT<<<<<<<<<<<99490270\\n2OO0S941563292NAEL<<SAMY<<<<03506296M8'), ('type', 'ID'), ('country', 'FRA'), ('number', '2OO0S9415'), ('date_of_birth', '2NAEL<'), ('expiration_date', 'AMY<<<'), ('nationality', '3Z9'), ('sex', 'S'), ('names', '99A9OZ7O'), ('surname', 'AMIRAT'), ('optional1', '0350629'), ('check_number', '6'), ('check_date_of_birth', '<'), ('check_expiration_date', '<'), ('check_composite', '6'), ('valid_number', False), ('valid_date_of_birth', False), ('valid_expiration_date', False), ('valid_composite', True), ('method', 'black_tophat')])\n",
      "\n",
      "\n",
      "OrderedDict([('mrz_type', 'TD3'), ('valid_score', 100), ('raw_text', 'P<GBRST<HELENA<SPECIMEN<<ANGELA<ZOE<<<<<<<<<\\n7606415605GBR8809117F2503103<<<<<<<<<<<<<<08'), ('type', 'P<'), ('country', 'GBR'), ('number', '760641560'), ('date_of_birth', '880911'), ('expiration_date', '250310'), ('nationality', 'GBR'), ('sex', 'F'), ('names', 'ANGELA ZOE'), ('surname', 'ST HELENA SPECIMEN'), ('personal_number', '<<<<<<<<<<<<<<'), ('check_number', '5'), ('check_date_of_birth', '7'), ('check_expiration_date', '3'), ('check_composite', '8'), ('check_personal_number', '0'), ('valid_number', True), ('valid_date_of_birth', True), ('valid_expiration_date', True), ('valid_composite', True), ('valid_personal_number', True), ('method', 'rescaled(1)')])\n",
      "\n",
      "\n",
      "OrderedDict([('mrz_type', 'TD3'), ('valid_score', 100), ('raw_text', 'P<NZLWHAKAATURANGAS<FRED<WIREMU<JOHN<<<<<<<<\\nLD001148<2NZL6402282M1410055<<<<<<<<<<<<<<00'), ('type', 'P<'), ('country', 'NZL'), ('number', 'LD001148<'), ('date_of_birth', '640228'), ('expiration_date', '141005'), ('nationality', 'NZL'), ('sex', 'M'), ('names', ''), ('surname', 'WHAKAATURANGAS FRED WIREMU JOHN'), ('personal_number', '<<<<<<<<<<<<<<'), ('check_number', '2'), ('check_date_of_birth', '2'), ('check_expiration_date', '5'), ('check_composite', '0'), ('check_personal_number', '0'), ('valid_number', True), ('valid_date_of_birth', True), ('valid_expiration_date', True), ('valid_composite', True), ('valid_personal_number', True), ('method', 'direct')])\n"
     ]
    }
   ],
   "source": [
    "#All Json datas\n",
    "print(mrz_data)\n",
    "print('\\n')\n",
    "print(mrz_data2)\n",
    "print('\\n')\n",
    "print(mrz_data3)"
   ]
  },
  {
   "cell_type": "code",
   "execution_count": null,
   "id": "cc7f094d",
   "metadata": {},
   "outputs": [],
   "source": []
  },
  {
   "cell_type": "code",
   "execution_count": null,
   "id": "d88c32c9",
   "metadata": {},
   "outputs": [],
   "source": []
  },
  {
   "cell_type": "code",
   "execution_count": null,
   "id": "a30a1177",
   "metadata": {},
   "outputs": [],
   "source": []
  }
 ],
 "metadata": {
  "kernelspec": {
   "display_name": "Python 3 (ipykernel)",
   "language": "python",
   "name": "python3"
  },
  "language_info": {
   "codemirror_mode": {
    "name": "ipython",
    "version": 3
   },
   "file_extension": ".py",
   "mimetype": "text/x-python",
   "name": "python",
   "nbconvert_exporter": "python",
   "pygments_lexer": "ipython3",
   "version": "3.11.3"
  }
 },
 "nbformat": 4,
 "nbformat_minor": 5
}
